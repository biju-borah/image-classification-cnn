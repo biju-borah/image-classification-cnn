{
  "nbformat": 4,
  "nbformat_minor": 0,
  "metadata": {
    "colab": {
      "name": "TL-image-classification.ipynb",
      "provenance": [],
      "collapsed_sections": []
    },
    "kernelspec": {
      "name": "python3",
      "display_name": "Python 3"
    },
    "language_info": {
      "name": "python"
    }
  },
  "cells": [
    {
      "cell_type": "code",
      "execution_count": 1,
      "metadata": {
        "id": "LYoDswoCMojW"
      },
      "outputs": [],
      "source": [
        "import tensorflow as tf\n",
        "from tensorflow.keras import datasets, layers, models\n",
        "import matplotlib.pyplot as plt\n",
        "import numpy as np"
      ]
    },
    {
      "cell_type": "code",
      "source": [
        "(X_train, y_train), (X_test, y_test) = datasets.cifar10.load_data()\n",
        "X_train.shape"
      ],
      "metadata": {
        "colab": {
          "base_uri": "https://localhost:8080/"
        },
        "id": "PKnVCjGKNzO0",
        "outputId": "8f8bfce1-55cc-45b5-9195-d267506378fc"
      },
      "execution_count": 2,
      "outputs": [
        {
          "output_type": "execute_result",
          "data": {
            "text/plain": [
              "(50000, 32, 32, 3)"
            ]
          },
          "metadata": {},
          "execution_count": 2
        }
      ]
    },
    {
      "cell_type": "code",
      "source": [
        "y_train = y_train.reshape(-1,1)\n",
        "y_test = y_test.reshape(-1,1)"
      ],
      "metadata": {
        "id": "hKUI4qauOG9E"
      },
      "execution_count": 3,
      "outputs": []
    },
    {
      "cell_type": "code",
      "source": [
        "classes = [\"airplane\",\"automobile\",\"bird\",\"cat\",\"deer\",\"dog\",\"frog\",\"horse\",\"ship\",\"truck\"]"
      ],
      "metadata": {
        "id": "iRU9Eq9dO3IT"
      },
      "execution_count": 4,
      "outputs": []
    },
    {
      "cell_type": "code",
      "source": [
        "X_train = X_train / 255.0\n",
        "X_test = X_test / 255.0"
      ],
      "metadata": {
        "id": "RBaW5dtYO7qL"
      },
      "execution_count": 5,
      "outputs": []
    },
    {
      "cell_type": "code",
      "source": [
        "cnn = models.Sequential([\n",
        "    layers.Conv2D(filters=64,kernel_size=(3,3),activation='relu',input_shape=(32,32,3)),\n",
        "    layers.MaxPooling2D((2,2)),\n",
        "\n",
        "    layers.Conv2D(filters=128,kernel_size=(3,3),activation='relu',input_shape=(32,32,3)),\n",
        "    layers.MaxPooling2D((2,2)),\n",
        "\n",
        "    layers.Flatten(),\n",
        "    layers.Dense(1000,activation='relu'),\n",
        "    layers.Dense(10,activation='softmax')\n",
        "])"
      ],
      "metadata": {
        "id": "bht0WiNNPFSk"
      },
      "execution_count": null,
      "outputs": []
    },
    {
      "cell_type": "code",
      "source": [
        "cnn.compile(optimizer='adam',\n",
        "            loss='sparse_categorical_crossentropy',\n",
        "            metrics=['accuracy'])"
      ],
      "metadata": {
        "id": "bu-J0apDQiz9"
      },
      "execution_count": null,
      "outputs": []
    },
    {
      "cell_type": "code",
      "source": [
        "cnn.fit(X_train,y_train,epochs=10)"
      ],
      "metadata": {
        "colab": {
          "base_uri": "https://localhost:8080/"
        },
        "id": "S_aDKoS2Q6fO",
        "outputId": "c8b81c8a-c807-4ea6-ebaa-69656837f02a"
      },
      "execution_count": null,
      "outputs": [
        {
          "output_type": "stream",
          "name": "stdout",
          "text": [
            "1563/1563 [==============================] - 204s 130ms/step - loss: 0.0907 - accuracy: 0.9698\n"
          ]
        },
        {
          "output_type": "execute_result",
          "data": {
            "text/plain": [
              "<keras.callbacks.History at 0x7f6b0a4bd090>"
            ]
          },
          "metadata": {},
          "execution_count": 33
        }
      ]
    },
    {
      "cell_type": "code",
      "source": [
        "cnn.evaluate(X_test,y_test)"
      ],
      "metadata": {
        "colab": {
          "base_uri": "https://localhost:8080/"
        },
        "id": "vQhFgExoROCy",
        "outputId": "f7db86b6-07df-4b93-9110-6e543bdd2b17"
      },
      "execution_count": null,
      "outputs": [
        {
          "output_type": "stream",
          "name": "stdout",
          "text": [
            "313/313 [==============================] - 11s 34ms/step - loss: 1.8702 - accuracy: 0.6959\n"
          ]
        },
        {
          "output_type": "execute_result",
          "data": {
            "text/plain": [
              "[1.8701810836791992, 0.695900022983551]"
            ]
          },
          "metadata": {},
          "execution_count": 34
        }
      ]
    },
    {
      "cell_type": "code",
      "source": [
        "y_pred = cnn.predict(X_test)\n",
        "index = np.argmax(y_pred[3])\n",
        "y_test[index]"
      ],
      "metadata": {
        "colab": {
          "base_uri": "https://localhost:8080/"
        },
        "id": "wz61tQ43RyuK",
        "outputId": "a7dad2a1-9dec-407a-ad52-139911873666"
      },
      "execution_count": null,
      "outputs": [
        {
          "output_type": "execute_result",
          "data": {
            "text/plain": [
              "array([3], dtype=uint8)"
            ]
          },
          "metadata": {},
          "execution_count": 38
        }
      ]
    },
    {
      "cell_type": "code",
      "source": [
        "plt.figure(figsize = (15,2))\n",
        "plt.imshow(X_test[3])\n",
        "plt.xlabel(classes[y_test[3][0]])\n",
        "classes[index]"
      ],
      "metadata": {
        "colab": {
          "base_uri": "https://localhost:8080/",
          "height": 191
        },
        "id": "q4_nlZv4Shxk",
        "outputId": "6dcbae27-dc3e-43cb-a94c-d6e0f8c9cde4"
      },
      "execution_count": null,
      "outputs": [
        {
          "output_type": "execute_result",
          "data": {
            "text/plain": [
              "'airplane'"
            ],
            "application/vnd.google.colaboratory.intrinsic+json": {
              "type": "string"
            }
          },
          "metadata": {},
          "execution_count": 39
        },
        {
          "output_type": "display_data",
          "data": {
            "text/plain": [
              "<Figure size 1080x144 with 1 Axes>"
            ],
            "image/png": "[encoded data removed]"
          },
          "metadata": {
            "needs_background": "light"
          }
        }
      ]
    },
    {
      "cell_type": "markdown",
      "source": [
        "---\n",
        "\n",
        "\n",
        "**Improving Test Accuracy**\n",
        "\n",
        "---\n",
        "\n",
        "\n"
      ],
      "metadata": {
        "id": "V4tzz7sgXGva"
      }
    },
    {
      "cell_type": "code",
      "source": [
        "from tensorflow import keras\n",
        "data_augmentation = keras.Sequential(\n",
        "  [\n",
        "    layers.experimental.preprocessing.RandomFlip(\"horizontal\", \n",
        "                                                 input_shape=(32, 32, 3)),\n",
        "    layers.experimental.preprocessing.RandomRotation(0.1),\n",
        "    layers.experimental.preprocessing.RandomZoom(0.1),\n",
        "  ]\n",
        ")"
      ],
      "metadata": {
        "id": "j0nc2u7JXO9c"
      },
      "execution_count": null,
      "outputs": []
    },
    {
      "cell_type": "code",
      "source": [
        "cnn = models.Sequential([\n",
        "    data_augmentation,\n",
        "\n",
        "    layers.Conv2D(filters=16,kernel_size=(3,3),activation='relu',input_shape=(32,32,3)),\n",
        "    layers.MaxPooling2D((2,2)),\n",
        "\n",
        "    layers.Conv2D(filters=32,kernel_size=(3,3),activation='relu',input_shape=(32,32,3)),\n",
        "    layers.MaxPooling2D((2,2)),\n",
        "\n",
        "    #Dropout works by randomly disabling neurons and their corresponding connections. \n",
        "    #This prevents the network from relying too much on single neurons and forces all neurons to learn to generalize better\n",
        "    layers.Dropout(0.2),\n",
        "\n",
        "    layers.Flatten(),\n",
        "    layers.Dense(128,activation='relu'),\n",
        "    layers.Dense(10,activation='softmax')\n",
        "])"
      ],
      "metadata": {
        "id": "ksDwUMFWXuaq"
      },
      "execution_count": null,
      "outputs": []
    },
    {
      "cell_type": "code",
      "source": [
        "cnn.compile(optimizer='adam',\n",
        "            loss='sparse_categorical_crossentropy',\n",
        "            metrics=['accuracy'])"
      ],
      "metadata": {
        "id": "py7z_8R1X4do"
      },
      "execution_count": null,
      "outputs": []
    },
    {
      "cell_type": "code",
      "source": [
        "cnn.fit(X_train,y_train,epochs=30)"
      ],
      "metadata": {
        "colab": {
          "base_uri": "https://localhost:8080/"
        },
        "id": "IDRkLSMCX5az",
        "outputId": "b0986d28-278e-46d5-ebed-50c3c5385ee7"
      },
      "execution_count": null,
      "outputs": [
        {
          "output_type": "stream",
          "name": "stdout",
          "text": [
            "Epoch 1/30\n",
            "1563/1563 [==============================] - 51s 32ms/step - loss: 1.3929 - accuracy: 0.5028\n",
            "Epoch 2/30\n",
            "1563/1563 [==============================] - 51s 33ms/step - loss: 1.3051 - accuracy: 0.5364\n",
            "Epoch 3/30\n",
            "1563/1563 [==============================] - 50s 32ms/step - loss: 1.2498 - accuracy: 0.5552\n",
            "Epoch 4/30\n",
            "1563/1563 [==============================] - 50s 32ms/step - loss: 1.2017 - accuracy: 0.5751\n",
            "Epoch 5/30\n",
            "1563/1563 [==============================] - 50s 32ms/step - loss: 1.1720 - accuracy: 0.5853\n",
            "Epoch 6/30\n",
            "1563/1563 [==============================] - 51s 33ms/step - loss: 1.1446 - accuracy: 0.5984\n",
            "Epoch 7/30\n",
            "1563/1563 [==============================] - 50s 32ms/step - loss: 1.1228 - accuracy: 0.6027\n",
            "Epoch 8/30\n",
            "1563/1563 [==============================] - 50s 32ms/step - loss: 1.1001 - accuracy: 0.6114\n",
            "Epoch 9/30\n",
            "1563/1563 [==============================] - 51s 32ms/step - loss: 1.0840 - accuracy: 0.6154\n",
            "Epoch 10/30\n",
            "1563/1563 [==============================] - 51s 33ms/step - loss: 1.0670 - accuracy: 0.6235\n",
            "Epoch 11/30\n",
            "1563/1563 [==============================] - 51s 32ms/step - loss: 1.0549 - accuracy: 0.6285\n",
            "Epoch 12/30\n",
            "1563/1563 [==============================] - 51s 32ms/step - loss: 1.0430 - accuracy: 0.6305\n",
            "Epoch 13/30\n",
            "1563/1563 [==============================] - 51s 33ms/step - loss: 1.0294 - accuracy: 0.6370\n",
            "Epoch 14/30\n",
            "1563/1563 [==============================] - 51s 32ms/step - loss: 1.0180 - accuracy: 0.6429\n",
            "Epoch 15/30\n",
            "1563/1563 [==============================] - 50s 32ms/step - loss: 1.0101 - accuracy: 0.6417\n",
            "Epoch 16/30\n",
            "1563/1563 [==============================] - 50s 32ms/step - loss: 1.0028 - accuracy: 0.6491\n",
            "Epoch 17/30\n",
            "1563/1563 [==============================] - 51s 33ms/step - loss: 0.9972 - accuracy: 0.6483\n",
            "Epoch 18/30\n",
            "1563/1563 [==============================] - 50s 32ms/step - loss: 0.9858 - accuracy: 0.6528\n",
            "Epoch 19/30\n",
            "1563/1563 [==============================] - 50s 32ms/step - loss: 0.9813 - accuracy: 0.6549\n",
            "Epoch 20/30\n",
            "1563/1563 [==============================] - 50s 32ms/step - loss: 0.9671 - accuracy: 0.6615\n",
            "Epoch 21/30\n",
            "1563/1563 [==============================] - 50s 32ms/step - loss: 0.9680 - accuracy: 0.6574\n",
            "Epoch 22/30\n",
            "1563/1563 [==============================] - 51s 32ms/step - loss: 0.9574 - accuracy: 0.6625\n",
            "Epoch 23/30\n",
            "1563/1563 [==============================] - 51s 32ms/step - loss: 0.9481 - accuracy: 0.6656\n",
            "Epoch 24/30\n",
            "1563/1563 [==============================] - 50s 32ms/step - loss: 0.9501 - accuracy: 0.6663\n",
            "Epoch 25/30\n",
            "1563/1563 [==============================] - 51s 33ms/step - loss: 0.9383 - accuracy: 0.6704\n",
            "Epoch 26/30\n",
            "1563/1563 [==============================] - 50s 32ms/step - loss: 0.9341 - accuracy: 0.6697\n",
            "Epoch 27/30\n",
            "1563/1563 [==============================] - 51s 32ms/step - loss: 0.9391 - accuracy: 0.6699\n",
            "Epoch 28/30\n",
            "1563/1563 [==============================] - 51s 32ms/step - loss: 0.9293 - accuracy: 0.6717\n",
            "Epoch 29/30\n",
            "1563/1563 [==============================] - 51s 32ms/step - loss: 0.9244 - accuracy: 0.6741\n",
            "Epoch 30/30\n",
            "1563/1563 [==============================] - 51s 33ms/step - loss: 0.9208 - accuracy: 0.6774\n"
          ]
        },
        {
          "output_type": "execute_result",
          "data": {
            "text/plain": [
              "<keras.callbacks.History at 0x7f6b0a2d0750>"
            ]
          },
          "metadata": {},
          "execution_count": 50
        }
      ]
    },
    {
      "cell_type": "code",
      "source": [
        "cnn.evaluate(X_test,y_test)"
      ],
      "metadata": {
        "colab": {
          "base_uri": "https://localhost:8080/"
        },
        "id": "Hcwu6uoaggWR",
        "outputId": "9222df3d-f3fb-4c24-e1ce-70f77635c1fc"
      },
      "execution_count": null,
      "outputs": [
        {
          "output_type": "stream",
          "name": "stdout",
          "text": [
            "313/313 [==============================] - 3s 9ms/step - loss: 0.9552 - accuracy: 0.6750\n"
          ]
        },
        {
          "output_type": "execute_result",
          "data": {
            "text/plain": [
              "[0.9552070498466492, 0.675000011920929]"
            ]
          },
          "metadata": {},
          "execution_count": 51
        }
      ]
    },
    {
      "cell_type": "markdown",
      "source": [
        "---\n",
        "\n",
        "\n",
        "**Transfer learning**\n",
        "\n",
        "---\n",
        "\n",
        "\n"
      ],
      "metadata": {
        "id": "vzE0fI3hD8Lc"
      }
    },
    {
      "cell_type": "code",
      "source": [
        "X = []\n",
        "Y = []\n",
        "from skimage.transform import resize\n",
        "for i in range(0,1000):\n",
        "  img_resized = resize(X_train[i], (224, 224))\n",
        "  X.append(img_resized)\n",
        "  Y.append(y_train[i])\n"
      ],
      "metadata": {
        "id": "pyGNAxUJEXkD"
      },
      "execution_count": 16,
      "outputs": []
    },
    {
      "cell_type": "code",
      "source": [
        "X = np.array(X)\n",
        "Y = np.array(Y)\n",
        "X.shape\n",
        "Y.shape"
      ],
      "metadata": {
        "colab": {
          "base_uri": "https://localhost:8080/"
        },
        "id": "GQPkzwgTI38U",
        "outputId": "79cc2d2c-1359-40ec-99ce-410893054bee"
      },
      "execution_count": 17,
      "outputs": [
        {
          "output_type": "execute_result",
          "data": {
            "text/plain": [
              "(1000, 1)"
            ]
          },
          "metadata": {},
          "execution_count": 17
        }
      ]
    },
    {
      "cell_type": "code",
      "source": [
        "import tensorflow_hub as hub\n",
        "feature_extractor_model = \"https://tfhub.dev/google/tf2-preview/mobilenet_v2/feature_vector/4\"\n",
        "\n",
        "pretrained_model_without_top_layer = hub.KerasLayer(\n",
        "    feature_extractor_model, input_shape=(224, 224, 3), trainable=False)"
      ],
      "metadata": {
        "id": "cmseEYQ7EGQe"
      },
      "execution_count": 18,
      "outputs": []
    },
    {
      "cell_type": "code",
      "source": [
        "model = tf.keras.Sequential([\n",
        "  pretrained_model_without_top_layer,\n",
        "  tf.keras.layers.Dense(10,activation='softmax')\n",
        "])"
      ],
      "metadata": {
        "id": "fBM9fkeFEQra"
      },
      "execution_count": 19,
      "outputs": []
    },
    {
      "cell_type": "code",
      "source": [
        "model.compile(optimizer='adam',\n",
        "            loss='sparse_categorical_crossentropy',\n",
        "            metrics=['accuracy'])"
      ],
      "metadata": {
        "id": "BBoURbxoFbyu"
      },
      "execution_count": 20,
      "outputs": []
    },
    {
      "cell_type": "code",
      "source": [
        "model.fit(X,Y,epochs=10)"
      ],
      "metadata": {
        "colab": {
          "base_uri": "https://localhost:8080/"
        },
        "id": "iBq29393FhVi",
        "outputId": "275d6f7c-444f-42c6-f0da-22dd60d13bf0"
      },
      "execution_count": 22,
      "outputs": [
        {
          "output_type": "stream",
          "name": "stdout",
          "text": [
            "Epoch 1/10\n",
            "32/32 [==============================] - 30s 769ms/step - loss: 1.9065 - accuracy: 0.3650\n",
            "Epoch 2/10\n",
            "32/32 [==============================] - 26s 805ms/step - loss: 0.9410 - accuracy: 0.7050\n",
            "Epoch 3/10\n",
            "32/32 [==============================] - 25s 790ms/step - loss: 0.6625 - accuracy: 0.7880\n",
            "Epoch 4/10\n",
            "32/32 [==============================] - 26s 804ms/step - loss: 0.5450 - accuracy: 0.8380\n",
            "Epoch 5/10\n",
            "32/32 [==============================] - 29s 907ms/step - loss: 0.4507 - accuracy: 0.8760\n",
            "Epoch 6/10\n",
            "32/32 [==============================] - 26s 798ms/step - loss: 0.3940 - accuracy: 0.9040\n",
            "Epoch 7/10\n",
            "32/32 [==============================] - 25s 790ms/step - loss: 0.3338 - accuracy: 0.9250\n",
            "Epoch 8/10\n",
            "32/32 [==============================] - 26s 823ms/step - loss: 0.2940 - accuracy: 0.9300\n",
            "Epoch 9/10\n",
            "32/32 [==============================] - 25s 785ms/step - loss: 0.2689 - accuracy: 0.9440\n",
            "Epoch 10/10\n",
            "32/32 [==============================] - 25s 779ms/step - loss: 0.2370 - accuracy: 0.9570\n"
          ]
        },
        {
          "output_type": "execute_result",
          "data": {
            "text/plain": [
              "<keras.callbacks.History at 0x7f5339835f10>"
            ]
          },
          "metadata": {},
          "execution_count": 22
        }
      ]
    },
    {
      "cell_type": "code",
      "source": [
        "testX = []\n",
        "testY = []\n",
        "from skimage.transform import resize\n",
        "for i in range(0,1000):\n",
        "  img_resized = resize(X_test[i], (224, 224))\n",
        "  testX.append(img_resized)\n",
        "  testY.append(y_test[i])\n"
      ],
      "metadata": {
        "id": "CbZCpJaoNyu6"
      },
      "execution_count": 24,
      "outputs": []
    },
    {
      "cell_type": "code",
      "source": [
        "testX = np.array(testX)\n",
        "testY = np.array(testY)\n",
        "testX.shape\n",
        "testY.shape"
      ],
      "metadata": {
        "colab": {
          "base_uri": "https://localhost:8080/"
        },
        "id": "4-SmC88zOSqz",
        "outputId": "36c1754a-b689-4fe6-9573-fa68a4cf513e"
      },
      "execution_count": 25,
      "outputs": [
        {
          "output_type": "execute_result",
          "data": {
            "text/plain": [
              "(1000, 1)"
            ]
          },
          "metadata": {},
          "execution_count": 25
        }
      ]
    },
    {
      "cell_type": "code",
      "source": [
        "model.evaluate(testX,testY)"
      ],
      "metadata": {
        "colab": {
          "base_uri": "https://localhost:8080/"
        },
        "id": "XMYgZJsUOd2W",
        "outputId": "a28311dc-f6b4-42da-c767-526a753dea4b"
      },
      "execution_count": 26,
      "outputs": [
        {
          "output_type": "stream",
          "name": "stdout",
          "text": [
            "32/32 [==============================] - 26s 784ms/step - loss: 0.6856 - accuracy: 0.7600\n"
          ]
        },
        {
          "output_type": "execute_result",
          "data": {
            "text/plain": [
              "[0.6855693459510803, 0.7599999904632568]"
            ]
          },
          "metadata": {},
          "execution_count": 26
        }
      ]
    }
  ]
}